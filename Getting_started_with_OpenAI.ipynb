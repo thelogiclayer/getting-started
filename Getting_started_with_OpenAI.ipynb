{
  "nbformat": 4,
  "nbformat_minor": 0,
  "metadata": {
    "colab": {
      "provenance": []
    },
    "kernelspec": {
      "name": "python3",
      "display_name": "Python 3"
    },
    "language_info": {
      "name": "python"
    }
  },
  "cells": [
    {
      "cell_type": "markdown",
      "source": [
        "First let's install the OpenAI library and import it into our workbook"
      ],
      "metadata": {
        "id": "Lms76zuK-afS"
      }
    },
    {
      "cell_type": "code",
      "source": [
        "!pip install openai --quiet\n",
        "import openai"
      ],
      "metadata": {
        "id": "zZ7I4JuM9ypA"
      },
      "execution_count": null,
      "outputs": []
    },
    {
      "cell_type": "markdown",
      "source": [
        "Now we need to provide our API Key from OpenAI.\n",
        "\n",
        "**Important**: Take care with your API Key and do not share with others e.g., posting this workbook on GitHub or sharing it via email, since the API Key gives other uses access to your OpenAI account and you may unintended incur costs related to their usage."
      ],
      "metadata": {
        "id": "5OMeUeNU-kx7"
      }
    },
    {
      "cell_type": "code",
      "source": [
        "openai.api_key = \"\""
      ],
      "metadata": {
        "id": "6UH-wWJ8-SUd"
      },
      "execution_count": null,
      "outputs": []
    },
    {
      "cell_type": "code",
      "execution_count": null,
      "metadata": {
        "colab": {
          "base_uri": "https://localhost:8080/"
        },
        "id": "aqP1b1JA9jTL",
        "outputId": "9185fa46-f3a7-487f-ddde-6af19066fa9b"
      },
      "outputs": [
        {
          "output_type": "stream",
          "name": "stdout",
          "text": [
            "{\n",
            "  \"choices\": [\n",
            "    {\n",
            "      \"finish_reason\": \"stop\",\n",
            "      \"index\": 0,\n",
            "      \"logprobs\": null,\n",
            "      \"text\": \"\\n\\nThe meaning of life is a philosophical question that has been debated throughout history. Ultimately, the answer to this question is subjective and will depend on each individual's beliefs and values.\"\n",
            "    }\n",
            "  ],\n",
            "  \"created\": 1685590569,\n",
            "  \"id\": \"cmpl-7MTObMXrsNbH5hraNN2MfziNbpKB1\",\n",
            "  \"model\": \"text-davinci-003\",\n",
            "  \"object\": \"text_completion\",\n",
            "  \"usage\": {\n",
            "    \"completion_tokens\": 37,\n",
            "    \"prompt_tokens\": 7,\n",
            "    \"total_tokens\": 44\n",
            "  }\n",
            "}\n"
          ]
        }
      ],
      "source": [
        "\n",
        "\n",
        "response = openai.Completion.create(\n",
        "  model=\"text-davinci-003\",\n",
        "  prompt = \"what is the meaning of life?\",\n",
        "  # prompt=\"ingredients for \" + meal,\n",
        "  temperature=0.3,\n",
        "  max_tokens=120,\n",
        "  top_p=1.0,\n",
        "  frequency_penalty=0.0,\n",
        "  presence_penalty=0.0\n",
        ")\n",
        "\n",
        "print(response)\n",
        "\n",
        "# ingredients = response['choices'][0]['text'].split('\\n')\n",
        "# for ingredient in enumerate(ingredients):\n",
        "#     if len(ingredient[1]) > 0:\n",
        "#         a = str(ingredient[1])\n",
        "#         b = a.replace('-', '')\n",
        "#         c = b.replace('1', '')\n",
        "#         d = c.replace('2', '')\n",
        "#         e = d.replace('3', '')\n",
        "#         f = e.replace('4', '')\n",
        "#         g = f.replace('5', '')\n",
        "#         h = g.replace('6', '')\n",
        "#         i = h.replace('7', '')\n",
        "#         j = i.replace('8', '')\n",
        "#         k = j.replace('9', '')\n",
        "#         l = k.replace('0', '')\n",
        "#         m = l.replace('.', '')\n",
        "#         n = m.replace('(', '')\n",
        "#         o = n.replace(')', '')\n",
        "#         p = o.replace('/', '')\n",
        "#         q = p.replace(',', '')\n",
        "#         r = q.replace(' lb ', '')\n",
        "#         s = r.replace(' oz ', '')\n",
        "#         t = s.replace(' can ', '')\n",
        "#         u = t.replace(' tablespoons ', '')\n",
        "#         v = u.replace(' teaspoon ', '')\n",
        "#         w = v.replace(' cup ', '')\n",
        "#         x = w.replace(' ounce ', '')\n",
        "#         z = w.strip()\n",
        "\n",
        "#         print(z)\n",
        "\n",
        "#         url = \"https://www.amazon.sg/s?k=\" + str(z)\n",
        "#         response = requests.get(url)\n",
        "#         soup = BeautifulSoup(response.text, \"html.parser\")\n",
        "#         product_divs = soup.find_all(\"div\", class_=\"a-section a-spacing-base\")\n",
        "#         title = product_divs[0].find(\"a\", class_=\"a-link-normal s-underline-text s-underline-link-text s-link-style a-text-normal\").text\n",
        "#         price = product_divs[0].find(\"span\", class_=\"a-offscreen\").text\n",
        "#         link = product_divs[0].find_all(\"a\", href=True)\n",
        "\n",
        "#         print(\"The top result on Amazon is \" + title + \", which costs \" + price)\n",
        "#         print(\"You can buy it here: \" + \"https://www.amazon.sg\" + str(link[0]['href']) + \"?tag=spencerkmarle-22\")\n",
        "#         print(\"\\n\")"
      ]
    },
    {
      "cell_type": "code",
      "source": [
        "meal = 'spaghetti bolognese'"
      ],
      "metadata": {
        "id": "4j6rYOsVB0lH"
      },
      "execution_count": null,
      "outputs": []
    }
  ]
}